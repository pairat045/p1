import torch
from torch import tensor
